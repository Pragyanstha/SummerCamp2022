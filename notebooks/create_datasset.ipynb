{
 "cells": [
  {
   "cell_type": "code",
   "execution_count": 1,
   "metadata": {},
   "outputs": [],
   "source": [
    "import os\n",
    "import sys\n",
    "directory_path = os.path.abspath(os.path.join('..'))\n",
    "if directory_path not in sys.path:\n",
    "    sys.path.append(directory_path)\n",
    "\n",
    "import numpy as np\n",
    "from data import Dataset\n",
    "\n",
    "DATA_DIR = \"../data/Problem_01\"\n",
    "RESULT_DIR = \"../results/Problem_01\"\n",
    "dataset = Dataset(DATA_DIR, RESULT_DIR, fps=15)\n",
    "dataset.export_images(\"../data/Problem_01/images\")\n"
   ]
  },
  {
   "cell_type": "code",
   "execution_count": 2,
   "metadata": {},
   "outputs": [],
   "source": [
    "DATA_DIR = \"../data/Problem_02\"\n",
    "RESULT_DIR = \"../results/Problem_02\"\n",
    "dataset = Dataset(DATA_DIR, RESULT_DIR, fps=15)\n",
    "dataset.export_images(\"../data/Problem_02/images\")"
   ]
  },
  {
   "cell_type": "code",
   "execution_count": 3,
   "metadata": {},
   "outputs": [],
   "source": [
    "DATA_DIR = \"../data/Problem_03\"\n",
    "RESULT_DIR = \"../results/Problem_03\"\n",
    "dataset = Dataset(DATA_DIR, RESULT_DIR, fps=15)\n",
    "dataset.export_images(\"../data/Problem_03/images\")"
   ]
  },
  {
   "cell_type": "code",
   "execution_count": 4,
   "metadata": {},
   "outputs": [],
   "source": [
    "DATA_DIR = \"../data/Problem_04\"\n",
    "RESULT_DIR = \"../results/Problem_04\"\n",
    "dataset = Dataset(DATA_DIR, RESULT_DIR, fps=15)\n",
    "dataset.export_images(\"../data/Problem_04/images\")"
   ]
  }
 ],
 "metadata": {
  "interpreter": {
   "hash": "9ca2c5413c2a8752a4b3b51c8c6bd4d5cd4c897000b014fcc77d34b97c427e7e"
  },
  "kernelspec": {
   "display_name": "Python 3.10.4 ('SummerCamp2022')",
   "language": "python",
   "name": "python3"
  },
  "language_info": {
   "codemirror_mode": {
    "name": "ipython",
    "version": 3
   },
   "file_extension": ".py",
   "mimetype": "text/x-python",
   "name": "python",
   "nbconvert_exporter": "python",
   "pygments_lexer": "ipython3",
   "version": "3.10.4"
  },
  "orig_nbformat": 4,
  "vscode": {
   "interpreter": {
    "hash": "2f394aca7ca06fed1e6064aef884364492d7cdda3614a461e02e6407fc40ba69"
   }
  }
 },
 "nbformat": 4,
 "nbformat_minor": 2
}
